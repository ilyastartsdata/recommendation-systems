{
 "cells": [
  {
   "cell_type": "markdown",
   "metadata": {},
   "source": [
    "# Домашнее задание"
   ]
  },
  {
   "cell_type": "markdown",
   "metadata": {},
   "source": [
    "**1) Приведите еще примеры метрик для оценки рекомендаций/ранжирования (можно взять из интернета, или ваши знания)**"
   ]
  },
  {
   "cell_type": "markdown",
   "metadata": {},
   "source": [
    "**Ответ:**"
   ]
  },
  {
   "cell_type": "markdown",
   "metadata": {},
   "source": [
    "- Mean average precision\n",
    "- Normalized Discounted Cumulative Gain\n",
    "- Mean reciprocal rank\n",
    "- Метрики на основе ранговой корреляции\n",
    "- Метрики на основе каскадной модели поведения"
   ]
  },
  {
   "cell_type": "markdown",
   "metadata": {},
   "source": [
    "https://habr.com/ru/company/econtenta/blog/303458/"
   ]
  },
  {
   "cell_type": "markdown",
   "metadata": {},
   "source": [
    "---"
   ]
  },
  {
   "cell_type": "markdown",
   "metadata": {},
   "source": [
    "**2) Доделать все функции, где стоит комментарий \"сделать дома\"**"
   ]
  },
  {
   "cell_type": "code",
   "execution_count": 2,
   "metadata": {},
   "outputs": [],
   "source": [
    "# Загрузка необходимых библиотек и данных\n",
    "\n",
    "import numpy as np\n",
    "\n",
    "recommended_l = [143, 156, 1134, 991, 27, 1543, 3345, 533, 11, 43]\n",
    "bought_l = [521, 32, 143, 991]"
   ]
  },
  {
   "cell_type": "code",
   "execution_count": 5,
   "metadata": {},
   "outputs": [],
   "source": [
    "# Функция recall\n",
    "\n",
    "def recall(recommended_l, bought_l):\n",
    "    \n",
    "    bought_l = np.array(bought_l)\n",
    "    recommended_l = np.array(recommended_l)\n",
    "    flags = np.isin(bought_l, recommended_l)\n",
    "    \n",
    "    return flags.sum() / len(bought_l)\n",
    "\n",
    "# Функция recall@K\n",
    "\n",
    "def recall_at_k(recommended_l, bought_l, k = 5):\n",
    "    \n",
    "    flags = np.isin(np.array(bought_l), np.array(recommended_l)[:k])\n",
    "    recall = flags.sum() / len(np.array(bought_l))\n",
    "    \n",
    "    return recall"
   ]
  },
  {
   "cell_type": "code",
   "execution_count": 6,
   "metadata": {},
   "outputs": [
    {
     "data": {
      "text/plain": [
       "(0.5, 0.5)"
      ]
     },
     "execution_count": 6,
     "metadata": {},
     "output_type": "execute_result"
    }
   ],
   "source": [
    "# Проверка\n",
    "\n",
    "recall(recommended_l, bought_l), recall_at_k(recommended_l, bought_l)"
   ]
  },
  {
   "cell_type": "code",
   "execution_count": 7,
   "metadata": {},
   "outputs": [],
   "source": [
    "# Функция money_recall@K\n",
    "\n",
    "def money_recall_at_k(recommended_l, bought_l, prices_recommended, prices_bought, k = 5):\n",
    "    \n",
    "    bought_l = np.array(bought_l)\n",
    "    prices_bought = np.array(prices_bought)\n",
    "    recommended_l = np.array(recommended_l)[:k]\n",
    "    prices_recommended = np.array(prices_recommended)[:k]\n",
    "    flags = np.isin(recommended_l, bought_l)\n",
    "    money_recall = np.dot(flags, prices_recommended)/prices_bought.sum()\n",
    "    \n",
    "    return money_recall"
   ]
  },
  {
   "cell_type": "code",
   "execution_count": 10,
   "metadata": {},
   "outputs": [],
   "source": [
    "# Загрузка данных\n",
    "\n",
    "prices_recommended = [100, 101, 102, 103, 104, 105, 106, 107, 108, 109, 110, 111, 112]\n",
    "prices_bought = [101, 102, 103, 104, 105, 106, 107, 108, 109, 110, 111, 112, 113]"
   ]
  },
  {
   "cell_type": "code",
   "execution_count": 11,
   "metadata": {},
   "outputs": [
    {
     "data": {
      "text/plain": [
       "(0.5, 0.14593817397555714)"
      ]
     },
     "execution_count": 11,
     "metadata": {},
     "output_type": "execute_result"
    }
   ],
   "source": [
    "# Проверка\n",
    "\n",
    "recall(recommended_l, bought_l), money_recall_at_k(recommended_l, bought_l, prices_recommended, prices_bought)"
   ]
  },
  {
   "cell_type": "code",
   "execution_count": 12,
   "metadata": {},
   "outputs": [],
   "source": [
    "# Функция precision\n",
    "\n",
    "def precision(recommended_l, bought_l):\n",
    "    \n",
    "    bought_l = np.array(bought_l)\n",
    "    recommended_l = np.array(recommended_l)\n",
    "    flags = np.isin(bought_l, recommended_l)\n",
    "    \n",
    "    return flags.sum() / len(recommended_l)\n",
    "\n",
    "# Функция precision@K\n",
    "\n",
    "def precision_at_k(recommended_l, bought_l, k = 5):\n",
    "    \n",
    "    return precision(recommended_l[:k], bought_l)\n",
    "\n",
    "# Функция ap_k\n",
    "\n",
    "def ap_k(recommended_l, bought_l, k = 5):\n",
    "    \n",
    "    bought_l = np.array(bought_l)\n",
    "    recommended_l = np.array(recommended_l)[:k]    \n",
    "    relevant_indexes = np.nonzero(np.isin(recommended_l, bought_l))[0]\n",
    "    \n",
    "    if len(relevant_indexes) == 0:\n",
    "        \n",
    "        return 0\n",
    "    \n",
    "    amount_relevant = len(relevant_indexes)\n",
    "    \n",
    "    for index_relevant in relevant_indexes:\n",
    "        \n",
    "        print(precision_at_k(recommended_l, bought_l, k = index_relevant + 1) )\n",
    "        \n",
    "    sum_ = sum([precision_at_k(recommended_l, bought_l, k = index_relevant + 1) for index_relevant in relevant_indexes])\n",
    "    \n",
    "    return sum_ / amount_relevant\n",
    "\n",
    "# Функция map_k\n",
    "\n",
    "def map_k(recommended_l, bought_l, k = 5):\n",
    "    \n",
    "    amount_user = len(bought_l)\n",
    "    list_ap_k = [ap_k(recommended_l[i], bought_l[i], k) for i in np.arange(amount_user)]    \n",
    "    sum_ap_k = sum(list_ap_k)  \n",
    "    result = sum_ap_k / amount_user\n",
    "    \n",
    "    return result"
   ]
  },
  {
   "cell_type": "code",
   "execution_count": 13,
   "metadata": {},
   "outputs": [],
   "source": [
    "# Загрузка данных\n",
    "\n",
    "recommended_list_3_users = [[143, 156, 1134, 991, 27, 1543, 3345, 533, 11, 43], \n",
    "                            [1134, 533, 14, 4, 15, 1543, 1, 99, 27, 3345],\n",
    "                            [991, 3345, 27, 533, 43, 143, 1543, 156, 1134, 11]\n",
    "                    ]\n",
    "\n",
    "bought_list_3_users = [[521, 32, 143],\n",
    "                       [143, 156, 991, 43, 11],\n",
    "                       [1, 2]\n",
    "                      ]"
   ]
  },
  {
   "cell_type": "code",
   "execution_count": 14,
   "metadata": {},
   "outputs": [
    {
     "name": "stdout",
     "output_type": "stream",
     "text": [
      "1.0\n"
     ]
    },
    {
     "data": {
      "text/plain": [
       "0.3333333333333333"
      ]
     },
     "execution_count": 14,
     "metadata": {},
     "output_type": "execute_result"
    }
   ],
   "source": [
    "# Проверка\n",
    "\n",
    "map_k(recommended_list_3_users, bought_list_3_users)"
   ]
  },
  {
   "cell_type": "code",
   "execution_count": 15,
   "metadata": {},
   "outputs": [],
   "source": [
    "# Функция inverse_rank\n",
    "\n",
    "def inverse_rank(recommended_l, bought_l, k = 1):\n",
    "    \n",
    "    rank = [(1/(i+1)) for i in range(len(recommended_l[:k])) for j in range(len(bought_l)) if recommended_l[i] == bought_l[j]]\n",
    "    \n",
    "    if len(rank) > 0:\n",
    "        \n",
    "        return rank[0]\n",
    "    \n",
    "    else:\n",
    "        \n",
    "        return 0\n",
    "    \n",
    "# Функция reciprocal_rank\n",
    "\n",
    "def reciprocal_rank(recommended_list_users, bought_list_users, k=1):\n",
    "    \n",
    "    rec_rank = []\n",
    "    \n",
    "    for i in range(len(bought_list_users)):\n",
    "        \n",
    "        rec_rank.append(inverse_rank(recommended_list_users[i], bought_list_users[i], k))\n",
    "        \n",
    "    rec_rank\n",
    "    \n",
    "    return rec_rank\n",
    "\n",
    "# Функция reciprocal_rank\n",
    "\n",
    "def mean_reciprocal_rank(recommended_list_users, bought_list_users, k=1):\n",
    "    \n",
    "    rec_rank = reciprocal_rank(recommended_list_users, bought_list_users, k)\n",
    "\n",
    "    mrr_at_k = np.sum(rec_rank) / len(bought_list_users)\n",
    "    \n",
    "    return mrr_at_k"
   ]
  },
  {
   "cell_type": "code",
   "execution_count": 16,
   "metadata": {},
   "outputs": [
    {
     "data": {
      "text/plain": [
       "[1.0, 0, 0]"
      ]
     },
     "execution_count": 16,
     "metadata": {},
     "output_type": "execute_result"
    }
   ],
   "source": [
    "# Проверка reciprocal\n",
    "\n",
    "reciprocal_rank(recommended_list_3_users, bought_list_3_users, k = 10)"
   ]
  },
  {
   "cell_type": "code",
   "execution_count": 17,
   "metadata": {},
   "outputs": [
    {
     "data": {
      "text/plain": [
       "0.3333333333333333"
      ]
     },
     "execution_count": 17,
     "metadata": {},
     "output_type": "execute_result"
    }
   ],
   "source": [
    "# Проверка mean_reciprocal\n",
    "\n",
    "mean_reciprocal_rank(recommended_list_3_users, bought_list_3_users, k = 10)"
   ]
  }
 ],
 "metadata": {
  "colab": {
   "name": "webinar_1.ipynb",
   "provenance": []
  },
  "kernelspec": {
   "display_name": "Python 3 (ipykernel)",
   "language": "python",
   "name": "python3"
  },
  "language_info": {
   "codemirror_mode": {
    "name": "ipython",
    "version": 3
   },
   "file_extension": ".py",
   "mimetype": "text/x-python",
   "name": "python",
   "nbconvert_exporter": "python",
   "pygments_lexer": "ipython3",
   "version": "3.9.7"
  }
 },
 "nbformat": 4,
 "nbformat_minor": 1
}
